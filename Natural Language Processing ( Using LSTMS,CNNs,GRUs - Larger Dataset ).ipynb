{
 "cells": [
  {
   "cell_type": "markdown",
   "metadata": {},
   "source": [
    "# Using LSTMs, CNNs, GRUs with a larger dataset"
   ]
  },
  {
   "cell_type": "markdown",
   "metadata": {},
   "source": [
    "In this Notebook , we shall be experimenting with various layers to see how they affect the model. We shall be using a larger dataset known as the glue/sst2 dataset.<br>\n",
    "\n",
    "- ### GLUE : refers to the General Language Understanding Evaluation \n",
    "- ### SST : Stanford Sentiment Treebank"
   ]
  },
  {
   "cell_type": "markdown",
   "metadata": {},
   "source": [
    "## Import Relevant Libraries"
   ]
  },
  {
   "cell_type": "code",
   "execution_count": 1,
   "metadata": {},
   "outputs": [
    {
     "name": "stdout",
     "output_type": "stream",
     "text": [
      "Requirement already satisfied: tensorflow-datasets in ./opt/anaconda3/envs/pyTensorFlow_2/lib/python3.7/site-packages (4.0.1)\n",
      "Requirement already satisfied: protobuf>=3.6.1 in ./opt/anaconda3/envs/pyTensorFlow_2/lib/python3.7/site-packages (from tensorflow-datasets) (3.13.0)\n",
      "Requirement already satisfied: absl-py in ./opt/anaconda3/envs/pyTensorFlow_2/lib/python3.7/site-packages (from tensorflow-datasets) (0.10.0)\n",
      "Requirement already satisfied: numpy in ./opt/anaconda3/envs/pyTensorFlow_2/lib/python3.7/site-packages (from tensorflow-datasets) (1.19.2)\n",
      "Requirement already satisfied: requests>=2.19.0 in ./opt/anaconda3/envs/pyTensorFlow_2/lib/python3.7/site-packages (from tensorflow-datasets) (2.24.0)\n",
      "Requirement already satisfied: six in ./opt/anaconda3/envs/pyTensorFlow_2/lib/python3.7/site-packages (from tensorflow-datasets) (1.15.0)\n",
      "Requirement already satisfied: importlib-resources; python_version < \"3.9\" in ./opt/anaconda3/envs/pyTensorFlow_2/lib/python3.7/site-packages (from tensorflow-datasets) (3.2.0)\n",
      "Requirement already satisfied: tensorflow-metadata in ./opt/anaconda3/envs/pyTensorFlow_2/lib/python3.7/site-packages (from tensorflow-datasets) (0.24.0)\n",
      "Requirement already satisfied: dill in ./opt/anaconda3/envs/pyTensorFlow_2/lib/python3.7/site-packages (from tensorflow-datasets) (0.3.2)\n",
      "Requirement already satisfied: promise in ./opt/anaconda3/envs/pyTensorFlow_2/lib/python3.7/site-packages (from tensorflow-datasets) (2.3)\n",
      "Requirement already satisfied: termcolor in ./opt/anaconda3/envs/pyTensorFlow_2/lib/python3.7/site-packages (from tensorflow-datasets) (1.1.0)\n",
      "Requirement already satisfied: tqdm in ./opt/anaconda3/envs/pyTensorFlow_2/lib/python3.7/site-packages (from tensorflow-datasets) (4.51.0)\n",
      "Requirement already satisfied: future in ./opt/anaconda3/envs/pyTensorFlow_2/lib/python3.7/site-packages (from tensorflow-datasets) (0.18.2)\n",
      "Requirement already satisfied: attrs>=18.1.0 in ./opt/anaconda3/envs/pyTensorFlow_2/lib/python3.7/site-packages (from tensorflow-datasets) (20.2.0)\n",
      "Requirement already satisfied: dm-tree in ./opt/anaconda3/envs/pyTensorFlow_2/lib/python3.7/site-packages (from tensorflow-datasets) (0.1.5)\n",
      "Requirement already satisfied: setuptools in ./opt/anaconda3/envs/pyTensorFlow_2/lib/python3.7/site-packages (from protobuf>=3.6.1->tensorflow-datasets) (50.3.0.post20201006)\n",
      "Requirement already satisfied: chardet<4,>=3.0.2 in ./opt/anaconda3/envs/pyTensorFlow_2/lib/python3.7/site-packages (from requests>=2.19.0->tensorflow-datasets) (3.0.4)\n",
      "Requirement already satisfied: idna<3,>=2.5 in ./opt/anaconda3/envs/pyTensorFlow_2/lib/python3.7/site-packages (from requests>=2.19.0->tensorflow-datasets) (2.10)\n",
      "Requirement already satisfied: certifi>=2017.4.17 in ./opt/anaconda3/envs/pyTensorFlow_2/lib/python3.7/site-packages (from requests>=2.19.0->tensorflow-datasets) (2020.6.20)\n",
      "Requirement already satisfied: urllib3!=1.25.0,!=1.25.1,<1.26,>=1.21.1 in ./opt/anaconda3/envs/pyTensorFlow_2/lib/python3.7/site-packages (from requests>=2.19.0->tensorflow-datasets) (1.25.11)\n",
      "Requirement already satisfied: zipp>=0.4; python_version < \"3.8\" in ./opt/anaconda3/envs/pyTensorFlow_2/lib/python3.7/site-packages (from importlib-resources; python_version < \"3.9\"->tensorflow-datasets) (3.4.0)\n",
      "Requirement already satisfied: googleapis-common-protos<2,>=1.52.0 in ./opt/anaconda3/envs/pyTensorFlow_2/lib/python3.7/site-packages (from tensorflow-metadata->tensorflow-datasets) (1.52.0)\n",
      "Note: you may need to restart the kernel to use updated packages.\n"
     ]
    }
   ],
   "source": [
    "#pip install tensorflow-datasets"
   ]
  },
  {
   "cell_type": "code",
   "execution_count": 2,
   "metadata": {},
   "outputs": [],
   "source": [
    "import tensorflow as tf\n",
    "import tensorflow_datasets as tfds\n",
    "import numpy as np"
   ]
  },
  {
   "cell_type": "markdown",
   "metadata": {},
   "source": [
    "## Get the dataset "
   ]
  },
  {
   "cell_type": "code",
   "execution_count": 3,
   "metadata": {},
   "outputs": [
    {
     "name": "stdout",
     "output_type": "stream",
     "text": [
      "FeaturesDict({\n",
      "    'idx': tf.int32,\n",
      "    'label': ClassLabel(shape=(), dtype=tf.int64, num_classes=2),\n",
      "    'sentence': Text(shape=(), dtype=tf.string),\n",
      "})\n",
      "2\n",
      "['negative', 'positive']\n"
     ]
    }
   ],
   "source": [
    "# Get the dataset.\n",
    "# This dataset contains 70000 items, so might take a while to download\n",
    "dataset, info = tfds.load('glue/sst2', with_info=True)\n",
    "print(info.features)\n",
    "print(info.features[\"label\"].num_classes)\n",
    "print(info.features[\"label\"].names)"
   ]
  },
  {
   "cell_type": "markdown",
   "metadata": {},
   "source": [
    "### Split Dataset "
   ]
  },
  {
   "cell_type": "code",
   "execution_count": 4,
   "metadata": {},
   "outputs": [
    {
     "data": {
      "text/plain": [
       "<PrefetchDataset shapes: {idx: (), label: (), sentence: ()}, types: {idx: tf.int32, label: tf.int64, sentence: tf.string}>"
      ]
     },
     "execution_count": 4,
     "metadata": {},
     "output_type": "execute_result"
    }
   ],
   "source": [
    "# Get the training and validation datasets\n",
    "dataset_train, dataset_validation = dataset['train'], dataset['validation']\n",
    "dataset_train"
   ]
  },
  {
   "cell_type": "code",
   "execution_count": 5,
   "metadata": {},
   "outputs": [
    {
     "name": "stdout",
     "output_type": "stream",
     "text": [
      "Review: tf.Tensor(b'for the uninitiated plays better on video with the sound ', shape=(), dtype=string)\n",
      "Label: 0 \n",
      "\n",
      "Review: tf.Tensor(b'like a giant commercial for universal studios , where much of the action takes place ', shape=(), dtype=string)\n",
      "Label: 0 \n",
      "\n"
     ]
    }
   ],
   "source": [
    "# Print some of the entries\n",
    "for example in dataset_train.take(2):  \n",
    "  review, label = example[\"sentence\"], example[\"label\"]\n",
    "  print(\"Review:\", review)\n",
    "  print(\"Label: %d \\n\" % label.numpy())"
   ]
  },
  {
   "cell_type": "code",
   "execution_count": 6,
   "metadata": {},
   "outputs": [
    {
     "name": "stdout",
     "output_type": "stream",
     "text": [
      "\n",
      "Number of training reviews is:  10000\n",
      "b'for the uninitiated plays better on video with the sound '\n",
      "0\n",
      "b'like a giant commercial for universal studios , where much of the action takes place '\n",
      "0\n",
      "\n",
      "Number of validation reviews is:  872\n",
      "b'a valueless kiddie paean to pro basketball underwritten by the nba . '\n",
      "0\n",
      "b\"featuring a dangerously seductive performance from the great daniel auteuil , `` sade '' covers the same period as kaufmann 's `` quills '' with more unsettlingly realistic results . \"\n",
      "1\n"
     ]
    }
   ],
   "source": [
    "# Get the sentences and the labels\n",
    "# for both the training and the validation sets\n",
    "training_reviews = []\n",
    "training_labels = []\n",
    " \n",
    "validation_reviews = []\n",
    "validation_labels = []\n",
    "\n",
    "# The dataset has 67,000 training entries, but that's a lot to process here!\n",
    "\n",
    "# If you want to take the entire dataset: WARNING: takes longer!!\n",
    "# for item in dataset_train.take(-1):\n",
    "\n",
    "# Take 10,000 reviews\n",
    "for item in dataset_train.take(10000):\n",
    "  review, label = item[\"sentence\"], item[\"label\"]\n",
    "  training_reviews.append(str(review.numpy()))\n",
    "  training_labels.append(label.numpy())\n",
    "\n",
    "print (\"\\nNumber of training reviews is: \", len(training_reviews))\n",
    "\n",
    "# print some of the reviews and labels\n",
    "for i in range(0, 2):\n",
    "  print (training_reviews[i])\n",
    "  print (training_labels[i])\n",
    "\n",
    "# Get the validation data\n",
    "# there's only about 800 items, so take them all\n",
    "for item in dataset_validation.take(-1):  \n",
    "  review, label = item[\"sentence\"], item[\"label\"]\n",
    "  validation_reviews.append(str(review.numpy()))\n",
    "  validation_labels.append(label.numpy())\n",
    "\n",
    "print (\"\\nNumber of validation reviews is: \", len(validation_reviews))\n",
    "\n",
    "# Print some of the validation reviews and labels\n",
    "for i in range(0, 2):\n",
    "  print (validation_reviews[i])\n",
    "  print (validation_labels[i])"
   ]
  },
  {
   "cell_type": "markdown",
   "metadata": {},
   "source": [
    "### Tokenize the words and sequence the sentences"
   ]
  },
  {
   "cell_type": "code",
   "execution_count": 7,
   "metadata": {},
   "outputs": [],
   "source": [
    "# There's a total of 21224 words in the reviews\n",
    "# but many of them are irrelevant like with, it, of, on.\n",
    "# If we take a subset of the training data, then the vocab\n",
    "# will be smaller.\n",
    "\n",
    "# A reasonable review might have about 50 words or so,\n",
    "# so we can set max_length to 50 (but feel free to change it as you like)\n",
    "\n",
    "vocab_size = 4000\n",
    "embedding_dim = 16\n",
    "max_length = 50\n",
    "trunc_type='post'\n",
    "pad_type='post'\n",
    "oov_tok = \"<OOV>\"\n",
    "\n",
    "from tensorflow.keras.preprocessing.text import Tokenizer\n",
    "from tensorflow.keras.preprocessing.sequence import pad_sequences\n",
    "\n",
    "tokenizer = Tokenizer(num_words = vocab_size, oov_token=oov_tok)\n",
    "tokenizer.fit_on_texts(training_reviews)\n",
    "word_index = tokenizer.word_index"
   ]
  },
  {
   "cell_type": "markdown",
   "metadata": {},
   "source": [
    "### Pad the sequences"
   ]
  },
  {
   "cell_type": "code",
   "execution_count": 8,
   "metadata": {},
   "outputs": [],
   "source": [
    "# Pad the sequences so that they are all the same length\n",
    "training_sequences = tokenizer.texts_to_sequences(training_reviews)\n",
    "training_padded = pad_sequences(training_sequences,maxlen=max_length, \n",
    "                                truncating=trunc_type, padding=pad_type)\n",
    "\n",
    "validation_sequences = tokenizer.texts_to_sequences(validation_reviews)\n",
    "validation_padded = pad_sequences(validation_sequences,maxlen=max_length)\n",
    "\n",
    "training_labels_final = np.array(training_labels)\n",
    "validation_labels_final = np.array(validation_labels)"
   ]
  },
  {
   "cell_type": "markdown",
   "metadata": {},
   "source": [
    "### Create the model using an Embedding "
   ]
  },
  {
   "cell_type": "code",
   "execution_count": 9,
   "metadata": {},
   "outputs": [
    {
     "name": "stdout",
     "output_type": "stream",
     "text": [
      "Model: \"sequential\"\n",
      "_________________________________________________________________\n",
      "Layer (type)                 Output Shape              Param #   \n",
      "=================================================================\n",
      "embedding (Embedding)        (None, 50, 16)            64000     \n",
      "_________________________________________________________________\n",
      "global_average_pooling1d (Gl (None, 16)                0         \n",
      "_________________________________________________________________\n",
      "dense (Dense)                (None, 1)                 17        \n",
      "=================================================================\n",
      "Total params: 64,017\n",
      "Trainable params: 64,017\n",
      "Non-trainable params: 0\n",
      "_________________________________________________________________\n"
     ]
    }
   ],
   "source": [
    "model = tf.keras.Sequential([\n",
    "    tf.keras.layers.Embedding(vocab_size, embedding_dim, input_length=max_length),\n",
    "    tf.keras.layers.GlobalAveragePooling1D(),  \n",
    "    tf.keras.layers.Dense(1, activation='sigmoid')\n",
    "])\n",
    "model.compile(loss='binary_crossentropy',optimizer='adam',metrics=['accuracy'])\n",
    "model.summary()"
   ]
  },
  {
   "cell_type": "markdown",
   "metadata": {},
   "source": [
    "### Train the model  "
   ]
  },
  {
   "cell_type": "code",
   "execution_count": 10,
   "metadata": {},
   "outputs": [
    {
     "name": "stdout",
     "output_type": "stream",
     "text": [
      "Epoch 1/20\n",
      "313/313 [==============================] - 1s 2ms/step - loss: 0.6836 - accuracy: 0.5578 - val_loss: 0.6893 - val_accuracy: 0.5149\n",
      "Epoch 2/20\n",
      "313/313 [==============================] - 1s 2ms/step - loss: 0.6713 - accuracy: 0.5762 - val_loss: 0.6700 - val_accuracy: 0.6124\n",
      "Epoch 3/20\n",
      "313/313 [==============================] - 1s 2ms/step - loss: 0.6495 - accuracy: 0.6282 - val_loss: 0.6426 - val_accuracy: 0.6514\n",
      "Epoch 4/20\n",
      "313/313 [==============================] - 1s 2ms/step - loss: 0.6185 - accuracy: 0.6799 - val_loss: 0.6094 - val_accuracy: 0.6972\n",
      "Epoch 5/20\n",
      "313/313 [==============================] - 1s 2ms/step - loss: 0.5842 - accuracy: 0.7142 - val_loss: 0.5777 - val_accuracy: 0.7202\n",
      "Epoch 6/20\n",
      "313/313 [==============================] - 1s 2ms/step - loss: 0.5497 - accuracy: 0.7439 - val_loss: 0.5496 - val_accuracy: 0.7305\n",
      "Epoch 7/20\n",
      "313/313 [==============================] - 1s 2ms/step - loss: 0.5177 - accuracy: 0.7731 - val_loss: 0.5286 - val_accuracy: 0.7477\n",
      "Epoch 8/20\n",
      "313/313 [==============================] - 1s 2ms/step - loss: 0.4893 - accuracy: 0.7958 - val_loss: 0.5116 - val_accuracy: 0.7580\n",
      "Epoch 9/20\n",
      "313/313 [==============================] - 1s 2ms/step - loss: 0.4638 - accuracy: 0.8132 - val_loss: 0.5012 - val_accuracy: 0.7477\n",
      "Epoch 10/20\n",
      "313/313 [==============================] - 1s 2ms/step - loss: 0.4410 - accuracy: 0.8230 - val_loss: 0.4937 - val_accuracy: 0.7557\n",
      "Epoch 11/20\n",
      "313/313 [==============================] - 1s 2ms/step - loss: 0.4205 - accuracy: 0.8309 - val_loss: 0.4881 - val_accuracy: 0.7592\n",
      "Epoch 12/20\n",
      "313/313 [==============================] - 1s 2ms/step - loss: 0.4026 - accuracy: 0.8369 - val_loss: 0.4837 - val_accuracy: 0.7638\n",
      "Epoch 13/20\n",
      "313/313 [==============================] - 1s 2ms/step - loss: 0.3857 - accuracy: 0.8446 - val_loss: 0.4841 - val_accuracy: 0.7615\n",
      "Epoch 14/20\n",
      "313/313 [==============================] - 1s 2ms/step - loss: 0.3710 - accuracy: 0.8493 - val_loss: 0.4862 - val_accuracy: 0.7615\n",
      "Epoch 15/20\n",
      "313/313 [==============================] - 1s 2ms/step - loss: 0.3579 - accuracy: 0.8521 - val_loss: 0.4874 - val_accuracy: 0.7764\n",
      "Epoch 16/20\n",
      "313/313 [==============================] - 1s 2ms/step - loss: 0.3455 - accuracy: 0.8575 - val_loss: 0.4930 - val_accuracy: 0.7729\n",
      "Epoch 17/20\n",
      "313/313 [==============================] - 1s 2ms/step - loss: 0.3341 - accuracy: 0.8626 - val_loss: 0.4978 - val_accuracy: 0.7672\n",
      "Epoch 18/20\n",
      "313/313 [==============================] - 1s 2ms/step - loss: 0.3235 - accuracy: 0.8662 - val_loss: 0.5074 - val_accuracy: 0.7626\n",
      "Epoch 19/20\n",
      "313/313 [==============================] - 1s 2ms/step - loss: 0.3146 - accuracy: 0.8668 - val_loss: 0.5163 - val_accuracy: 0.7603\n",
      "Epoch 20/20\n",
      "313/313 [==============================] - 1s 2ms/step - loss: 0.3058 - accuracy: 0.8711 - val_loss: 0.5236 - val_accuracy: 0.7615\n"
     ]
    }
   ],
   "source": [
    "num_epochs = 20\n",
    "history = model.fit(training_padded, training_labels_final, epochs=num_epochs, \n",
    "                    validation_data=(validation_padded, validation_labels_final))\n"
   ]
  },
  {
   "cell_type": "markdown",
   "metadata": {},
   "source": [
    "### Plot the accurracy and loss"
   ]
  },
  {
   "cell_type": "code",
   "execution_count": 11,
   "metadata": {},
   "outputs": [
    {
     "data": {
      "image/png": "[encoded data removed]",
      "text/plain": [
       "<Figure size 432x288 with 1 Axes>"
      ]
     },
     "metadata": {
      "needs_background": "light"
     },
     "output_type": "display_data"
    },
    {
     "data": {
      "image/png": "[encoded data removed]",
      "text/plain": [
       "<Figure size 432x288 with 1 Axes>"
      ]
     },
     "metadata": {
      "needs_background": "light"
     },
     "output_type": "display_data"
    }
   ],
   "source": [
    "import matplotlib.pyplot as plt\n",
    "\n",
    "\n",
    "def plot_graphs(history, string):\n",
    "  plt.plot(history.history[string])\n",
    "  plt.plot(history.history['val_'+string])\n",
    "  plt.xlabel(\"Epochs\")\n",
    "  plt.ylabel(string)\n",
    "  plt.legend([string, 'val_'+string])\n",
    "  plt.show()\n",
    "  \n",
    "plot_graphs(history, \"accuracy\")\n",
    "plot_graphs(history, \"loss\")"
   ]
  },
  {
   "cell_type": "markdown",
   "metadata": {},
   "source": [
    "## Write a function to predict the sentiment of reviews"
   ]
  },
  {
   "cell_type": "code",
   "execution_count": 12,
   "metadata": {},
   "outputs": [],
   "source": [
    "# Write some new reviews \n",
    "\n",
    "review1 = \"\"\"I loved this movie\"\"\"\n",
    "\n",
    "review2 = \"\"\"that was the worst movie I've ever seen\"\"\"\n",
    "\n",
    "review3 = \"\"\"too much violence even for a Bond film\"\"\"\n",
    "\n",
    "review4 = \"\"\"a captivating recounting of a cherished myth\"\"\"\n",
    "\n",
    "new_reviews = [review1, review2, review3, review4]\n"
   ]
  },
  {
   "cell_type": "code",
   "execution_count": 13,
   "metadata": {},
   "outputs": [
    {
     "name": "stdout",
     "output_type": "stream",
     "text": [
      "I loved this movie\n",
      "[0.4130501]\n",
      "\n",
      "\n",
      "that was the worst movie I've ever seen\n",
      "[0.12134131]\n",
      "\n",
      "\n",
      "too much violence even for a Bond film\n",
      "[0.03199172]\n",
      "\n",
      "\n",
      "a captivating recounting of a cherished myth\n",
      "[0.6278808]\n",
      "\n",
      "\n"
     ]
    }
   ],
   "source": [
    "# Define a function to prepare the new reviews for use with a model\n",
    "# and then use the model to predict the sentiment of the new reviews           \n",
    "\n",
    "def predict_review(model, reviews):\n",
    "  # Create the sequences\n",
    "  padding_type='post'\n",
    "  sample_sequences = tokenizer.texts_to_sequences(reviews)\n",
    "  reviews_padded = pad_sequences(sample_sequences, padding=padding_type, \n",
    "                                 maxlen=max_length) \n",
    "  classes = model.predict(reviews_padded)\n",
    "  for x in range(len(reviews_padded)):\n",
    "    print(reviews[x])\n",
    "    print(classes[x])\n",
    "    print('\\n')\n",
    "\n",
    "predict_review(model, new_reviews)"
   ]
  },
  {
   "cell_type": "markdown",
   "metadata": {},
   "source": [
    "## Define a function to train and show the results of models with different layers"
   ]
  },
  {
   "cell_type": "code",
   "execution_count": 14,
   "metadata": {},
   "outputs": [],
   "source": [
    "def fit_model_and_show_results (model, reviews):\n",
    "  model.summary()\n",
    "  history = model.fit(training_padded, training_labels_final, epochs=num_epochs, \n",
    "                      validation_data=(validation_padded, validation_labels_final))\n",
    "  plot_graphs(history, \"accuracy\")\n",
    "  plot_graphs(history, \"loss\")\n",
    "  predict_review(model, reviews)"
   ]
  },
  {
   "cell_type": "markdown",
   "metadata": {},
   "source": [
    "# Use a CNN"
   ]
  },
  {
   "cell_type": "code",
   "execution_count": 15,
   "metadata": {},
   "outputs": [
    {
     "name": "stdout",
     "output_type": "stream",
     "text": [
      "Model: \"sequential_1\"\n",
      "_________________________________________________________________\n",
      "Layer (type)                 Output Shape              Param #   \n",
      "=================================================================\n",
      "embedding_1 (Embedding)      (None, 50, 16)            64000     \n",
      "_________________________________________________________________\n",
      "conv1d (Conv1D)              (None, 46, 16)            1296      \n",
      "_________________________________________________________________\n",
      "global_max_pooling1d (Global (None, 16)                0         \n",
      "_________________________________________________________________\n",
      "dense_1 (Dense)              (None, 1)                 17        \n",
      "=================================================================\n",
      "Total params: 65,313\n",
      "Trainable params: 65,313\n",
      "Non-trainable params: 0\n",
      "_________________________________________________________________\n",
      "Epoch 1/30\n",
      "313/313 [==============================] - 1s 3ms/step - loss: 0.6883 - accuracy: 0.5477 - val_loss: 0.6921 - val_accuracy: 0.5080\n",
      "Epoch 2/30\n",
      "313/313 [==============================] - 1s 3ms/step - loss: 0.6808 - accuracy: 0.5593 - val_loss: 0.6906 - val_accuracy: 0.5092\n",
      "Epoch 3/30\n",
      "313/313 [==============================] - 1s 3ms/step - loss: 0.6749 - accuracy: 0.5600 - val_loss: 0.6866 - val_accuracy: 0.5275\n",
      "Epoch 4/30\n",
      "313/313 [==============================] - 1s 3ms/step - loss: 0.6670 - accuracy: 0.5746 - val_loss: 0.6799 - val_accuracy: 0.5791\n",
      "Epoch 5/30\n",
      "313/313 [==============================] - 1s 3ms/step - loss: 0.6550 - accuracy: 0.6133 - val_loss: 0.6699 - val_accuracy: 0.6674\n",
      "Epoch 6/30\n",
      "313/313 [==============================] - 1s 3ms/step - loss: 0.6377 - accuracy: 0.6649 - val_loss: 0.6558 - val_accuracy: 0.6961\n",
      "Epoch 7/30\n",
      "313/313 [==============================] - 1s 3ms/step - loss: 0.6142 - accuracy: 0.7270 - val_loss: 0.6375 - val_accuracy: 0.7007\n",
      "Epoch 8/30\n",
      "313/313 [==============================] - 1s 3ms/step - loss: 0.5850 - accuracy: 0.7646 - val_loss: 0.6165 - val_accuracy: 0.7110\n",
      "Epoch 9/30\n",
      "313/313 [==============================] - 1s 3ms/step - loss: 0.5521 - accuracy: 0.7890 - val_loss: 0.5954 - val_accuracy: 0.7236\n",
      "Epoch 10/30\n",
      "313/313 [==============================] - 1s 3ms/step - loss: 0.5175 - accuracy: 0.8116 - val_loss: 0.5731 - val_accuracy: 0.7259\n",
      "Epoch 11/30\n",
      "313/313 [==============================] - 1s 3ms/step - loss: 0.4834 - accuracy: 0.8245 - val_loss: 0.5539 - val_accuracy: 0.7408\n",
      "Epoch 12/30\n",
      "313/313 [==============================] - 1s 3ms/step - loss: 0.4515 - accuracy: 0.8339 - val_loss: 0.5371 - val_accuracy: 0.7454\n",
      "Epoch 13/30\n",
      "313/313 [==============================] - 1s 3ms/step - loss: 0.4224 - accuracy: 0.8433 - val_loss: 0.5223 - val_accuracy: 0.7477\n",
      "Epoch 14/30\n",
      "313/313 [==============================] - 1s 3ms/step - loss: 0.3964 - accuracy: 0.8502 - val_loss: 0.5123 - val_accuracy: 0.7580\n",
      "Epoch 15/30\n",
      "313/313 [==============================] - 1s 3ms/step - loss: 0.3733 - accuracy: 0.8567 - val_loss: 0.5024 - val_accuracy: 0.7603\n",
      "Epoch 16/30\n",
      "313/313 [==============================] - 1s 3ms/step - loss: 0.3532 - accuracy: 0.8634 - val_loss: 0.4974 - val_accuracy: 0.7580\n",
      "Epoch 17/30\n",
      "313/313 [==============================] - 1s 3ms/step - loss: 0.3350 - accuracy: 0.8709 - val_loss: 0.4930 - val_accuracy: 0.7603\n",
      "Epoch 18/30\n",
      "313/313 [==============================] - 1s 3ms/step - loss: 0.3191 - accuracy: 0.8743 - val_loss: 0.4913 - val_accuracy: 0.7615\n",
      "Epoch 19/30\n",
      "313/313 [==============================] - 1s 3ms/step - loss: 0.3046 - accuracy: 0.8795 - val_loss: 0.4913 - val_accuracy: 0.7626\n",
      "Epoch 20/30\n",
      "313/313 [==============================] - 1s 3ms/step - loss: 0.2918 - accuracy: 0.8831 - val_loss: 0.4925 - val_accuracy: 0.7683\n",
      "Epoch 21/30\n",
      "313/313 [==============================] - 1s 3ms/step - loss: 0.2801 - accuracy: 0.8876 - val_loss: 0.4951 - val_accuracy: 0.7661\n",
      "Epoch 22/30\n",
      "313/313 [==============================] - 1s 3ms/step - loss: 0.2695 - accuracy: 0.8910 - val_loss: 0.4990 - val_accuracy: 0.7649\n",
      "Epoch 23/30\n",
      "313/313 [==============================] - 1s 3ms/step - loss: 0.2598 - accuracy: 0.8933 - val_loss: 0.5038 - val_accuracy: 0.7661\n",
      "Epoch 24/30\n",
      "313/313 [==============================] - 1s 3ms/step - loss: 0.2507 - accuracy: 0.8988 - val_loss: 0.5089 - val_accuracy: 0.7661\n",
      "Epoch 25/30\n",
      "313/313 [==============================] - 1s 3ms/step - loss: 0.2424 - accuracy: 0.9002 - val_loss: 0.5154 - val_accuracy: 0.7649\n",
      "Epoch 26/30\n",
      "313/313 [==============================] - 1s 3ms/step - loss: 0.2346 - accuracy: 0.9031 - val_loss: 0.5219 - val_accuracy: 0.7649\n",
      "Epoch 27/30\n",
      "313/313 [==============================] - 1s 3ms/step - loss: 0.2274 - accuracy: 0.9054 - val_loss: 0.5305 - val_accuracy: 0.7649\n",
      "Epoch 28/30\n",
      "313/313 [==============================] - 1s 3ms/step - loss: 0.2207 - accuracy: 0.9075 - val_loss: 0.5390 - val_accuracy: 0.7626\n",
      "Epoch 29/30\n",
      "313/313 [==============================] - 1s 3ms/step - loss: 0.2145 - accuracy: 0.9094 - val_loss: 0.5478 - val_accuracy: 0.7615\n",
      "Epoch 30/30\n",
      "313/313 [==============================] - 1s 3ms/step - loss: 0.2085 - accuracy: 0.9121 - val_loss: 0.5568 - val_accuracy: 0.7603\n"
     ]
    },
    {
     "data": {
      "image/png": "[encoded data removed]",
      "text/plain": [
       "<Figure size 432x288 with 1 Axes>"
      ]
     },
     "metadata": {
      "needs_background": "light"
     },
     "output_type": "display_data"
    },
    {
     "data": {
      "image/png": "[encoded data removed]",
      "text/plain": [
       "<Figure size 432x288 with 1 Axes>"
      ]
     },
     "metadata": {
      "needs_background": "light"
     },
     "output_type": "display_data"
    },
    {
     "name": "stdout",
     "output_type": "stream",
     "text": [
      "I loved this movie\n",
      "[0.92985237]\n",
      "\n",
      "\n",
      "that was the worst movie I've ever seen\n",
      "[0.03061767]\n",
      "\n",
      "\n",
      "too much violence even for a Bond film\n",
      "[0.004269]\n",
      "\n",
      "\n",
      "a captivating recounting of a cherished myth\n",
      "[0.81803954]\n",
      "\n",
      "\n"
     ]
    }
   ],
   "source": [
    "num_epochs = 30\n",
    "\n",
    "model_cnn = tf.keras.Sequential([\n",
    "    tf.keras.layers.Embedding(vocab_size, embedding_dim, input_length=max_length),\n",
    "    tf.keras.layers.Conv1D(16, 5, activation='relu'),\n",
    "    tf.keras.layers.GlobalMaxPooling1D(),\n",
    "    tf.keras.layers.Dense(1, activation='sigmoid')\n",
    "])\n",
    "\n",
    "# Default learning rate for the Adam optimizer is 0.001\n",
    "# Let's slow down the learning rate by 10.\n",
    "learning_rate = 0.0001\n",
    "model_cnn.compile(loss='binary_crossentropy',\n",
    "                  optimizer=tf.keras.optimizers.Adam(learning_rate), \n",
    "                  metrics=['accuracy'])\n",
    "\n",
    "fit_model_and_show_results(model_cnn, new_reviews)"
   ]
  },
  {
   "cell_type": "markdown",
   "metadata": {},
   "source": [
    "# Use a GRU"
   ]
  },
  {
   "cell_type": "code",
   "execution_count": 16,
   "metadata": {},
   "outputs": [
    {
     "name": "stdout",
     "output_type": "stream",
     "text": [
      "Model: \"sequential_2\"\n",
      "_________________________________________________________________\n",
      "Layer (type)                 Output Shape              Param #   \n",
      "=================================================================\n",
      "embedding_2 (Embedding)      (None, 50, 16)            64000     \n",
      "_________________________________________________________________\n",
      "bidirectional (Bidirectional (None, 64)                9600      \n",
      "_________________________________________________________________\n",
      "dense_2 (Dense)              (None, 1)                 65        \n",
      "=================================================================\n",
      "Total params: 73,665\n",
      "Trainable params: 73,665\n",
      "Non-trainable params: 0\n",
      "_________________________________________________________________\n",
      "Epoch 1/30\n",
      "313/313 [==============================] - 11s 36ms/step - loss: 0.6905 - accuracy: 0.5553 - val_loss: 0.6931 - val_accuracy: 0.5092\n",
      "Epoch 2/30\n",
      "313/313 [==============================] - 11s 34ms/step - loss: 0.6872 - accuracy: 0.5590 - val_loss: 0.6937 - val_accuracy: 0.5092\n",
      "Epoch 3/30\n",
      "313/313 [==============================] - 10s 33ms/step - loss: 0.6856 - accuracy: 0.5590 - val_loss: 0.6945 - val_accuracy: 0.5092\n",
      "Epoch 4/30\n",
      "313/313 [==============================] - 12s 37ms/step - loss: 0.6845 - accuracy: 0.5590 - val_loss: 0.6949 - val_accuracy: 0.5092\n",
      "Epoch 5/30\n",
      "313/313 [==============================] - 11s 37ms/step - loss: 0.6832 - accuracy: 0.5590 - val_loss: 0.6951 - val_accuracy: 0.5092\n",
      "Epoch 6/30\n",
      "313/313 [==============================] - 13s 40ms/step - loss: 0.6812 - accuracy: 0.5590 - val_loss: 0.6956 - val_accuracy: 0.5092\n",
      "Epoch 7/30\n",
      "313/313 [==============================] - 12s 38ms/step - loss: 0.6779 - accuracy: 0.5590 - val_loss: 0.6963 - val_accuracy: 0.5092\n",
      "Epoch 8/30\n",
      "313/313 [==============================] - 11s 35ms/step - loss: 0.6725 - accuracy: 0.5597 - val_loss: 0.6982 - val_accuracy: 0.5092\n",
      "Epoch 9/30\n",
      "313/313 [==============================] - 11s 35ms/step - loss: 0.6623 - accuracy: 0.5696 - val_loss: 0.7047 - val_accuracy: 0.5092\n",
      "Epoch 10/30\n",
      "313/313 [==============================] - 12s 39ms/step - loss: 0.6425 - accuracy: 0.6029 - val_loss: 0.7007 - val_accuracy: 0.5080\n",
      "Epoch 11/30\n",
      "313/313 [==============================] - 11s 36ms/step - loss: 0.6045 - accuracy: 0.6592 - val_loss: 0.6518 - val_accuracy: 0.5183\n",
      "Epoch 12/30\n",
      "313/313 [==============================] - 11s 35ms/step - loss: 0.5714 - accuracy: 0.6969 - val_loss: 0.6382 - val_accuracy: 0.6135\n",
      "Epoch 13/30\n",
      "313/313 [==============================] - 11s 34ms/step - loss: 0.5520 - accuracy: 0.7276 - val_loss: 0.6390 - val_accuracy: 0.5917\n",
      "Epoch 14/30\n",
      "313/313 [==============================] - 10s 33ms/step - loss: 0.5317 - accuracy: 0.7348 - val_loss: 0.6454 - val_accuracy: 0.6078\n",
      "Epoch 15/30\n",
      "313/313 [==============================] - 11s 37ms/step - loss: 0.5132 - accuracy: 0.7499 - val_loss: 0.6294 - val_accuracy: 0.6720\n",
      "Epoch 16/30\n",
      "313/313 [==============================] - 11s 35ms/step - loss: 0.4959 - accuracy: 0.7628 - val_loss: 0.6223 - val_accuracy: 0.7144\n",
      "Epoch 17/30\n",
      "313/313 [==============================] - 12s 39ms/step - loss: 0.4766 - accuracy: 0.7735 - val_loss: 0.6155 - val_accuracy: 0.7339\n",
      "Epoch 18/30\n",
      "313/313 [==============================] - 11s 37ms/step - loss: 0.4618 - accuracy: 0.7886 - val_loss: 0.6031 - val_accuracy: 0.7328\n",
      "Epoch 19/30\n",
      "313/313 [==============================] - 11s 37ms/step - loss: 0.4480 - accuracy: 0.7961 - val_loss: 0.6335 - val_accuracy: 0.7511\n",
      "Epoch 20/30\n",
      "313/313 [==============================] - 10s 32ms/step - loss: 0.4360 - accuracy: 0.8019 - val_loss: 0.6103 - val_accuracy: 0.7489\n",
      "Epoch 21/30\n",
      "313/313 [==============================] - 11s 35ms/step - loss: 0.4242 - accuracy: 0.8125 - val_loss: 0.6317 - val_accuracy: 0.7489\n",
      "Epoch 22/30\n",
      "313/313 [==============================] - 12s 37ms/step - loss: 0.4145 - accuracy: 0.8183 - val_loss: 0.6153 - val_accuracy: 0.7489\n",
      "Epoch 23/30\n",
      "313/313 [==============================] - 10s 33ms/step - loss: 0.4043 - accuracy: 0.8261 - val_loss: 0.6212 - val_accuracy: 0.7477\n",
      "Epoch 24/30\n",
      "313/313 [==============================] - 10s 33ms/step - loss: 0.3975 - accuracy: 0.8271 - val_loss: 0.6103 - val_accuracy: 0.7477\n",
      "Epoch 25/30\n",
      "313/313 [==============================] - 11s 34ms/step - loss: 0.3904 - accuracy: 0.8286 - val_loss: 0.6266 - val_accuracy: 0.7454\n",
      "Epoch 26/30\n",
      "313/313 [==============================] - 14s 45ms/step - loss: 0.3803 - accuracy: 0.8344 - val_loss: 0.6301 - val_accuracy: 0.7477\n",
      "Epoch 27/30\n",
      "313/313 [==============================] - 15s 47ms/step - loss: 0.3733 - accuracy: 0.8382 - val_loss: 0.6428 - val_accuracy: 0.7477\n",
      "Epoch 28/30\n",
      "313/313 [==============================] - 10s 33ms/step - loss: 0.3647 - accuracy: 0.8419 - val_loss: 0.6784 - val_accuracy: 0.7374\n",
      "Epoch 29/30\n",
      "313/313 [==============================] - 10s 32ms/step - loss: 0.3611 - accuracy: 0.8460 - val_loss: 0.7034 - val_accuracy: 0.7408\n",
      "Epoch 30/30\n",
      "313/313 [==============================] - 10s 33ms/step - loss: 0.3515 - accuracy: 0.8514 - val_loss: 0.6807 - val_accuracy: 0.7500\n"
     ]
    },
    {
     "data": {
      "image/png": "[encoded data removed]",
      "text/plain": [
       "<Figure size 432x288 with 1 Axes>"
      ]
     },
     "metadata": {
      "needs_background": "light"
     },
     "output_type": "display_data"
    },
    {
     "data": {
      "image/png": "[encoded data removed]",
      "text/plain": [
       "<Figure size 432x288 with 1 Axes>"
      ]
     },
     "metadata": {
      "needs_background": "light"
     },
     "output_type": "display_data"
    },
    {
     "name": "stdout",
     "output_type": "stream",
     "text": [
      "I loved this movie\n",
      "[0.39152858]\n",
      "\n",
      "\n",
      "that was the worst movie I've ever seen\n",
      "[0.2505618]\n",
      "\n",
      "\n",
      "too much violence even for a Bond film\n",
      "[0.13518178]\n",
      "\n",
      "\n",
      "a captivating recounting of a cherished myth\n",
      "[0.5053855]\n",
      "\n",
      "\n"
     ]
    }
   ],
   "source": [
    "num_epochs = 30\n",
    "\n",
    "model_gru = tf.keras.Sequential([\n",
    "    tf.keras.layers.Embedding(vocab_size, embedding_dim, input_length=max_length),\n",
    "    tf.keras.layers.Bidirectional(tf.keras.layers.GRU(32)),\n",
    "    tf.keras.layers.Dense(1, activation='sigmoid')\n",
    "])\n",
    "\n",
    "learning_rate = 0.00003 # slower than the default learning rate\n",
    "model_gru.compile(loss='binary_crossentropy',\n",
    "                  optimizer=tf.keras.optimizers.Adam(learning_rate),\n",
    "                  metrics=['accuracy'])\n",
    "\n",
    "fit_model_and_show_results(model_gru, new_reviews)"
   ]
  },
  {
   "cell_type": "markdown",
   "metadata": {},
   "source": [
    "# Add a bidirectional LSTM"
   ]
  },
  {
   "cell_type": "code",
   "execution_count": 17,
   "metadata": {},
   "outputs": [
    {
     "name": "stdout",
     "output_type": "stream",
     "text": [
      "Model: \"sequential_3\"\n",
      "_________________________________________________________________\n",
      "Layer (type)                 Output Shape              Param #   \n",
      "=================================================================\n",
      "embedding_3 (Embedding)      (None, 50, 16)            64000     \n",
      "_________________________________________________________________\n",
      "bidirectional_1 (Bidirection (None, 32)                4224      \n",
      "_________________________________________________________________\n",
      "dense_3 (Dense)              (None, 1)                 33        \n",
      "=================================================================\n",
      "Total params: 68,257\n",
      "Trainable params: 68,257\n",
      "Non-trainable params: 0\n",
      "_________________________________________________________________\n",
      "Epoch 1/30\n",
      "313/313 [==============================] - 9s 29ms/step - loss: 0.6920 - accuracy: 0.5367 - val_loss: 0.6930 - val_accuracy: 0.5092\n",
      "Epoch 2/30\n",
      "313/313 [==============================] - 8s 26ms/step - loss: 0.6886 - accuracy: 0.5590 - val_loss: 0.6933 - val_accuracy: 0.5092\n",
      "Epoch 3/30\n",
      "313/313 [==============================] - 9s 30ms/step - loss: 0.6861 - accuracy: 0.5590 - val_loss: 0.6943 - val_accuracy: 0.5092\n",
      "Epoch 4/30\n",
      "313/313 [==============================] - 10s 31ms/step - loss: 0.6844 - accuracy: 0.5590 - val_loss: 0.6956 - val_accuracy: 0.5092\n",
      "Epoch 5/30\n",
      "313/313 [==============================] - 10s 30ms/step - loss: 0.6830 - accuracy: 0.5590 - val_loss: 0.6972 - val_accuracy: 0.5092\n",
      "Epoch 6/30\n",
      "313/313 [==============================] - 9s 30ms/step - loss: 0.6816 - accuracy: 0.5590 - val_loss: 0.6983 - val_accuracy: 0.5092\n",
      "Epoch 7/30\n",
      "313/313 [==============================] - 9s 28ms/step - loss: 0.6797 - accuracy: 0.5590 - val_loss: 0.7006 - val_accuracy: 0.5092\n",
      "Epoch 8/30\n",
      "313/313 [==============================] - 9s 29ms/step - loss: 0.6771 - accuracy: 0.5590 - val_loss: 0.7029 - val_accuracy: 0.5092\n",
      "Epoch 9/30\n",
      "313/313 [==============================] - 9s 30ms/step - loss: 0.6735 - accuracy: 0.5590 - val_loss: 0.7079 - val_accuracy: 0.5092\n",
      "Epoch 10/30\n",
      "313/313 [==============================] - 9s 29ms/step - loss: 0.6688 - accuracy: 0.5603 - val_loss: 0.7138 - val_accuracy: 0.5092\n",
      "Epoch 11/30\n",
      "313/313 [==============================] - 9s 28ms/step - loss: 0.6625 - accuracy: 0.5736 - val_loss: 0.7194 - val_accuracy: 0.5092\n",
      "Epoch 12/30\n",
      "313/313 [==============================] - 9s 30ms/step - loss: 0.6539 - accuracy: 0.6083 - val_loss: 0.7369 - val_accuracy: 0.5092\n",
      "Epoch 13/30\n",
      "313/313 [==============================] - 9s 28ms/step - loss: 0.6422 - accuracy: 0.6373 - val_loss: 0.7433 - val_accuracy: 0.5092\n",
      "Epoch 14/30\n",
      "313/313 [==============================] - 10s 32ms/step - loss: 0.6273 - accuracy: 0.6566 - val_loss: 0.7560 - val_accuracy: 0.5092\n",
      "Epoch 15/30\n",
      "313/313 [==============================] - 9s 30ms/step - loss: 0.6116 - accuracy: 0.6736 - val_loss: 0.7541 - val_accuracy: 0.5092\n",
      "Epoch 16/30\n",
      "313/313 [==============================] - 9s 29ms/step - loss: 0.5966 - accuracy: 0.6874 - val_loss: 0.7592 - val_accuracy: 0.5080\n",
      "Epoch 17/30\n",
      "313/313 [==============================] - 9s 30ms/step - loss: 0.5843 - accuracy: 0.6988 - val_loss: 0.7635 - val_accuracy: 0.5069\n",
      "Epoch 18/30\n",
      "313/313 [==============================] - 9s 30ms/step - loss: 0.5738 - accuracy: 0.7116 - val_loss: 0.7563 - val_accuracy: 0.5057\n",
      "Epoch 19/30\n",
      "313/313 [==============================] - 9s 30ms/step - loss: 0.5642 - accuracy: 0.7236 - val_loss: 0.7490 - val_accuracy: 0.5011\n",
      "Epoch 20/30\n",
      "313/313 [==============================] - 10s 32ms/step - loss: 0.5561 - accuracy: 0.7309 - val_loss: 0.7541 - val_accuracy: 0.5011\n",
      "Epoch 21/30\n",
      "313/313 [==============================] - 9s 30ms/step - loss: 0.5461 - accuracy: 0.7413 - val_loss: 0.7580 - val_accuracy: 0.5034\n",
      "Epoch 22/30\n",
      "313/313 [==============================] - 9s 28ms/step - loss: 0.5398 - accuracy: 0.7452 - val_loss: 0.7474 - val_accuracy: 0.5034\n",
      "Epoch 23/30\n",
      "313/313 [==============================] - 9s 28ms/step - loss: 0.5311 - accuracy: 0.7552 - val_loss: 0.7601 - val_accuracy: 0.5046\n",
      "Epoch 24/30\n",
      "313/313 [==============================] - 8s 27ms/step - loss: 0.5244 - accuracy: 0.7578 - val_loss: 0.7579 - val_accuracy: 0.5057\n",
      "Epoch 25/30\n",
      "313/313 [==============================] - 9s 28ms/step - loss: 0.5169 - accuracy: 0.7607 - val_loss: 0.7666 - val_accuracy: 0.5057\n",
      "Epoch 26/30\n",
      "313/313 [==============================] - 9s 28ms/step - loss: 0.5083 - accuracy: 0.7657 - val_loss: 0.7568 - val_accuracy: 0.5046\n",
      "Epoch 27/30\n",
      "313/313 [==============================] - 9s 28ms/step - loss: 0.5017 - accuracy: 0.7743 - val_loss: 0.7569 - val_accuracy: 0.5046\n",
      "Epoch 28/30\n",
      "313/313 [==============================] - 9s 27ms/step - loss: 0.4961 - accuracy: 0.7805 - val_loss: 0.7364 - val_accuracy: 0.5011\n",
      "Epoch 29/30\n",
      "313/313 [==============================] - 9s 27ms/step - loss: 0.4882 - accuracy: 0.7886 - val_loss: 0.7408 - val_accuracy: 0.5023\n",
      "Epoch 30/30\n",
      "313/313 [==============================] - 8s 27ms/step - loss: 0.4817 - accuracy: 0.7919 - val_loss: 0.7557 - val_accuracy: 0.5011\n"
     ]
    },
    {
     "data": {
      "image/png": "[encoded data removed]",
      "text/plain": [
       "<Figure size 432x288 with 1 Axes>"
      ]
     },
     "metadata": {
      "needs_background": "light"
     },
     "output_type": "display_data"
    },
    {
     "data": {
      "image/png": "[encoded data removed]",
      "text/plain": [
       "<Figure size 432x288 with 1 Axes>"
      ]
     },
     "metadata": {
      "needs_background": "light"
     },
     "output_type": "display_data"
    },
    {
     "name": "stdout",
     "output_type": "stream",
     "text": [
      "I loved this movie\n",
      "[0.51572424]\n",
      "\n",
      "\n",
      "that was the worst movie I've ever seen\n",
      "[0.3244484]\n",
      "\n",
      "\n",
      "too much violence even for a Bond film\n",
      "[0.55575055]\n",
      "\n",
      "\n",
      "a captivating recounting of a cherished myth\n",
      "[0.52067846]\n",
      "\n",
      "\n"
     ]
    }
   ],
   "source": [
    "num_epochs = 30\n",
    "\n",
    "model_bidi_lstm = tf.keras.Sequential([\n",
    "    tf.keras.layers.Embedding(vocab_size, embedding_dim, input_length=max_length),\n",
    "    tf.keras.layers.Bidirectional(tf.keras.layers.LSTM(embedding_dim)), \n",
    "    tf.keras.layers.Dense(1, activation='sigmoid')\n",
    "])\n",
    "\n",
    "learning_rate = 0.00003\n",
    "model_bidi_lstm.compile(loss='binary_crossentropy',\n",
    "                        optimizer=tf.keras.optimizers.Adam(learning_rate),\n",
    "                        metrics=['accuracy'])\n",
    "fit_model_and_show_results(model_bidi_lstm, new_reviews)"
   ]
  },
  {
   "cell_type": "markdown",
   "metadata": {},
   "source": [
    "# Use multiple bidirectional LSTMs"
   ]
  },
  {
   "cell_type": "code",
   "execution_count": 18,
   "metadata": {},
   "outputs": [
    {
     "name": "stdout",
     "output_type": "stream",
     "text": [
      "Model: \"sequential_4\"\n",
      "_________________________________________________________________\n",
      "Layer (type)                 Output Shape              Param #   \n",
      "=================================================================\n",
      "embedding_4 (Embedding)      (None, 50, 16)            64000     \n",
      "_________________________________________________________________\n",
      "bidirectional_2 (Bidirection (None, 50, 32)            4224      \n",
      "_________________________________________________________________\n",
      "bidirectional_3 (Bidirection (None, 32)                6272      \n",
      "_________________________________________________________________\n",
      "dense_4 (Dense)              (None, 1)                 33        \n",
      "=================================================================\n",
      "Total params: 74,529\n",
      "Trainable params: 74,529\n",
      "Non-trainable params: 0\n",
      "_________________________________________________________________\n",
      "Epoch 1/30\n",
      "313/313 [==============================] - 18s 57ms/step - loss: 0.6827 - accuracy: 0.5628 - val_loss: 0.7102 - val_accuracy: 0.5092\n",
      "Epoch 2/30\n",
      "313/313 [==============================] - 16s 52ms/step - loss: 0.5278 - accuracy: 0.7284 - val_loss: 0.6535 - val_accuracy: 0.6823\n",
      "Epoch 3/30\n",
      "313/313 [==============================] - 17s 53ms/step - loss: 0.3641 - accuracy: 0.8302 - val_loss: 0.6626 - val_accuracy: 0.6227\n",
      "Epoch 4/30\n",
      "313/313 [==============================] - 17s 55ms/step - loss: 0.2989 - accuracy: 0.8628 - val_loss: 0.6739 - val_accuracy: 0.5149\n",
      "Epoch 5/30\n",
      "313/313 [==============================] - 24s 75ms/step - loss: 0.2722 - accuracy: 0.8728 - val_loss: 0.6610 - val_accuracy: 0.6284\n",
      "Epoch 6/30\n",
      "313/313 [==============================] - 20s 64ms/step - loss: 0.2474 - accuracy: 0.8844 - val_loss: 0.6676 - val_accuracy: 0.5333\n",
      "Epoch 7/30\n",
      "313/313 [==============================] - 19s 62ms/step - loss: 0.2329 - accuracy: 0.8937 - val_loss: 0.6613 - val_accuracy: 0.5677\n",
      "Epoch 8/30\n",
      "313/313 [==============================] - 19s 60ms/step - loss: 0.2199 - accuracy: 0.8994 - val_loss: 0.6633 - val_accuracy: 0.6296\n",
      "Epoch 9/30\n",
      "313/313 [==============================] - 25s 79ms/step - loss: 0.2100 - accuracy: 0.9025 - val_loss: 0.6652 - val_accuracy: 0.6055\n",
      "Epoch 10/30\n",
      "313/313 [==============================] - 26s 84ms/step - loss: 0.2000 - accuracy: 0.9082 - val_loss: 0.6559 - val_accuracy: 0.6055\n",
      "Epoch 11/30\n",
      "313/313 [==============================] - 20s 63ms/step - loss: 0.1944 - accuracy: 0.9111 - val_loss: 0.6695 - val_accuracy: 0.5562\n",
      "Epoch 12/30\n",
      "313/313 [==============================] - 18s 57ms/step - loss: 0.1842 - accuracy: 0.9138 - val_loss: 0.7078 - val_accuracy: 0.5722\n",
      "Epoch 13/30\n",
      "313/313 [==============================] - 18s 58ms/step - loss: 0.1818 - accuracy: 0.9156 - val_loss: 0.6586 - val_accuracy: 0.5998\n",
      "Epoch 14/30\n",
      "313/313 [==============================] - 17s 55ms/step - loss: 0.1763 - accuracy: 0.9188 - val_loss: 0.6689 - val_accuracy: 0.5906\n",
      "Epoch 15/30\n",
      "313/313 [==============================] - 18s 57ms/step - loss: 0.1778 - accuracy: 0.9179 - val_loss: 0.8156 - val_accuracy: 0.5310\n",
      "Epoch 16/30\n",
      "313/313 [==============================] - 18s 58ms/step - loss: 0.1693 - accuracy: 0.9182 - val_loss: 0.6941 - val_accuracy: 0.6250\n",
      "Epoch 17/30\n",
      "313/313 [==============================] - 18s 56ms/step - loss: 0.1680 - accuracy: 0.9229 - val_loss: 0.8232 - val_accuracy: 0.5264\n",
      "Epoch 18/30\n",
      "313/313 [==============================] - 18s 57ms/step - loss: 0.1639 - accuracy: 0.9246 - val_loss: 0.7668 - val_accuracy: 0.5298\n",
      "Epoch 19/30\n",
      "313/313 [==============================] - 18s 57ms/step - loss: 0.1619 - accuracy: 0.9266 - val_loss: 0.7669 - val_accuracy: 0.5069\n",
      "Epoch 20/30\n",
      "313/313 [==============================] - 18s 58ms/step - loss: 0.1587 - accuracy: 0.9240 - val_loss: 0.7316 - val_accuracy: 0.6193\n",
      "Epoch 21/30\n",
      "313/313 [==============================] - 19s 60ms/step - loss: 0.1555 - accuracy: 0.9250 - val_loss: 0.7968 - val_accuracy: 0.6468\n",
      "Epoch 22/30\n",
      "313/313 [==============================] - 18s 56ms/step - loss: 0.1537 - accuracy: 0.9225 - val_loss: 0.7580 - val_accuracy: 0.4209\n",
      "Epoch 23/30\n",
      "313/313 [==============================] - 18s 56ms/step - loss: 0.1505 - accuracy: 0.9274 - val_loss: 0.9695 - val_accuracy: 0.4736\n",
      "Epoch 24/30\n",
      "313/313 [==============================] - 18s 56ms/step - loss: 0.1529 - accuracy: 0.9252 - val_loss: 0.9036 - val_accuracy: 0.4518\n",
      "Epoch 25/30\n",
      "313/313 [==============================] - 18s 58ms/step - loss: 0.1468 - accuracy: 0.9280 - val_loss: 0.7767 - val_accuracy: 0.5367\n",
      "Epoch 26/30\n",
      "313/313 [==============================] - 18s 56ms/step - loss: 0.1459 - accuracy: 0.9271 - val_loss: 0.9358 - val_accuracy: 0.4862\n",
      "Epoch 27/30\n",
      "313/313 [==============================] - 17s 56ms/step - loss: 0.1467 - accuracy: 0.9252 - val_loss: 0.9388 - val_accuracy: 0.5149\n",
      "Epoch 28/30\n",
      "313/313 [==============================] - 18s 57ms/step - loss: 0.1436 - accuracy: 0.9293 - val_loss: 1.0857 - val_accuracy: 0.4862\n",
      "Epoch 29/30\n",
      "313/313 [==============================] - 17s 56ms/step - loss: 0.1407 - accuracy: 0.9324 - val_loss: 0.8991 - val_accuracy: 0.4725\n",
      "Epoch 30/30\n",
      "313/313 [==============================] - 18s 59ms/step - loss: 0.1375 - accuracy: 0.9298 - val_loss: 1.4122 - val_accuracy: 0.4759\n"
     ]
    },
    {
     "data": {
      "image/png": "[encoded data removed]",
      "text/plain": [
       "<Figure size 432x288 with 1 Axes>"
      ]
     },
     "metadata": {
      "needs_background": "light"
     },
     "output_type": "display_data"
    },
    {
     "data": {
      "image/png": "[encoded data removed]",
      "text/plain": [
       "<Figure size 432x288 with 1 Axes>"
      ]
     },
     "metadata": {
      "needs_background": "light"
     },
     "output_type": "display_data"
    },
    {
     "name": "stdout",
     "output_type": "stream",
     "text": [
      "I loved this movie\n",
      "[0.9481555]\n",
      "\n",
      "\n",
      "that was the worst movie I've ever seen\n",
      "[0.5272407]\n",
      "\n",
      "\n",
      "too much violence even for a Bond film\n",
      "[0.01088955]\n",
      "\n",
      "\n",
      "a captivating recounting of a cherished myth\n",
      "[0.9947956]\n",
      "\n",
      "\n"
     ]
    }
   ],
   "source": [
    "num_epochs = 30\n",
    "\n",
    "model_multiple_bidi_lstm = tf.keras.Sequential([\n",
    "    tf.keras.layers.Embedding(vocab_size, embedding_dim, input_length=max_length),\n",
    "    tf.keras.layers.Bidirectional(tf.keras.layers.LSTM(embedding_dim, \n",
    "                                                       return_sequences=True)),\n",
    "    tf.keras.layers.Bidirectional(tf.keras.layers.LSTM(embedding_dim)),\n",
    "    tf.keras.layers.Dense(1, activation='sigmoid')\n",
    "])\n",
    "\n",
    "learning_rate = 0.0003\n",
    "model_multiple_bidi_lstm.compile(loss='binary_crossentropy',\n",
    "                                 optimizer=tf.keras.optimizers.Adam(learning_rate),\n",
    "                                 metrics=['accuracy'])\n",
    "fit_model_and_show_results(model_multiple_bidi_lstm, new_reviews)"
   ]
  },
  {
   "cell_type": "markdown",
   "metadata": {},
   "source": [
    "# Try some more reviews"
   ]
  },
  {
   "cell_type": "code",
   "execution_count": 19,
   "metadata": {},
   "outputs": [],
   "source": [
    "# Write some new reviews \n",
    "\n",
    "review1 = \"\"\"I loved this movie\"\"\"\n",
    "\n",
    "review2 = \"\"\"that was the worst movie I've ever seen\"\"\"\n",
    "\n",
    "review3 = \"\"\"too much violence even for a Bond film\"\"\"\n",
    "\n",
    "review4 = \"\"\"a captivating recounting of a cherished myth\"\"\"\n",
    "\n",
    "review5 = \"\"\"I saw this movie yesterday and I was feeling low to start with,\n",
    " but it was such a wonderful movie that it lifted my spirits and brightened \n",
    " my day, you can\\'t go wrong with a movie with Whoopi Goldberg in it.\"\"\"\n",
    "\n",
    "review6 = \"\"\"I don\\'t understand why it received an oscar recommendation\n",
    " for best movie, it was long and boring\"\"\"\n",
    "\n",
    "review7 = \"\"\"the scenery was magnificent, the CGI of the dogs was so realistic I\n",
    " thought they were played by real dogs even though they talked!\"\"\"\n",
    "\n",
    "review8 = \"\"\"The ending was so sad and yet so uplifting at the same time. \n",
    " I'm looking for an excuse to see it again\"\"\"\n",
    "\n",
    "review9 = \"\"\"I had expected so much more from a movie made by the director \n",
    " who made my most favorite movie ever, I was very disappointed in the tedious \n",
    " story\"\"\"\n",
    "\n",
    "review10 = \"I wish I could watch this movie every day for the rest of my life\"\n",
    "\n",
    "more_reviews = [review1, review2, review3, review4, review5, review6, review7, \n",
    "               review8, review9, review10]"
   ]
  },
  {
   "cell_type": "code",
   "execution_count": 20,
   "metadata": {},
   "outputs": [
    {
     "name": "stdout",
     "output_type": "stream",
     "text": [
      "============================\n",
      " Embeddings only:\n",
      " ============================\n",
      "I loved this movie\n",
      "[0.41305012]\n",
      "\n",
      "\n",
      "that was the worst movie I've ever seen\n",
      "[0.12134126]\n",
      "\n",
      "\n",
      "too much violence even for a Bond film\n",
      "[0.03199169]\n",
      "\n",
      "\n",
      "a captivating recounting of a cherished myth\n",
      "[0.62788075]\n",
      "\n",
      "\n",
      "I saw this movie yesterday and I was feeling low to start with,\n",
      " but it was such a wonderful movie that it lifted my spirits and brightened \n",
      " my day, you can't go wrong with a movie with Whoopi Goldberg in it.\n",
      "[0.27842382]\n",
      "\n",
      "\n",
      "I don't understand why it received an oscar recommendation\n",
      " for best movie, it was long and boring\n",
      "[0.5115566]\n",
      "\n",
      "\n",
      "the scenery was magnificent, the CGI of the dogs was so realistic I\n",
      " thought they were played by real dogs even though they talked!\n",
      "[0.26935855]\n",
      "\n",
      "\n",
      "The ending was so sad and yet so uplifting at the same time. \n",
      " I'm looking for an excuse to see it again\n",
      "[0.5235465]\n",
      "\n",
      "\n",
      "I had expected so much more from a movie made by the director \n",
      " who made my most favorite movie ever, I was very disappointed in the tedious \n",
      " story\n",
      "[0.01010698]\n",
      "\n",
      "\n",
      "I wish I could watch this movie every day for the rest of my life\n",
      "[0.32088962]\n",
      "\n",
      "\n"
     ]
    }
   ],
   "source": [
    "print(\"============================\\n\",\"Embeddings only:\\n\", \"============================\")\n",
    "predict_review(model, more_reviews)"
   ]
  },
  {
   "cell_type": "code",
   "execution_count": 21,
   "metadata": {},
   "outputs": [
    {
     "name": "stdout",
     "output_type": "stream",
     "text": [
      "============================\n",
      " With CNN\n",
      " ============================\n",
      "I loved this movie\n",
      "[0.92985237]\n",
      "\n",
      "\n",
      "that was the worst movie I've ever seen\n",
      "[0.03061762]\n",
      "\n",
      "\n",
      "too much violence even for a Bond film\n",
      "[0.00426897]\n",
      "\n",
      "\n",
      "a captivating recounting of a cherished myth\n",
      "[0.81803966]\n",
      "\n",
      "\n",
      "I saw this movie yesterday and I was feeling low to start with,\n",
      " but it was such a wonderful movie that it lifted my spirits and brightened \n",
      " my day, you can't go wrong with a movie with Whoopi Goldberg in it.\n",
      "[0.7287143]\n",
      "\n",
      "\n",
      "I don't understand why it received an oscar recommendation\n",
      " for best movie, it was long and boring\n",
      "[0.8752974]\n",
      "\n",
      "\n",
      "the scenery was magnificent, the CGI of the dogs was so realistic I\n",
      " thought they were played by real dogs even though they talked!\n",
      "[0.34778994]\n",
      "\n",
      "\n",
      "The ending was so sad and yet so uplifting at the same time. \n",
      " I'm looking for an excuse to see it again\n",
      "[0.8830447]\n",
      "\n",
      "\n",
      "I had expected so much more from a movie made by the director \n",
      " who made my most favorite movie ever, I was very disappointed in the tedious \n",
      " story\n",
      "[0.03605556]\n",
      "\n",
      "\n",
      "I wish I could watch this movie every day for the rest of my life\n",
      "[0.6335066]\n",
      "\n",
      "\n"
     ]
    }
   ],
   "source": [
    "print(\"============================\\n\",\"With CNN\\n\", \"============================\")\n",
    "predict_review(model_cnn, more_reviews)"
   ]
  },
  {
   "cell_type": "code",
   "execution_count": 22,
   "metadata": {},
   "outputs": [
    {
     "name": "stdout",
     "output_type": "stream",
     "text": [
      "===========================\n",
      " With bidirectional GRU\n",
      " ============================\n",
      "I loved this movie\n",
      "[0.3915286]\n",
      "\n",
      "\n",
      "that was the worst movie I've ever seen\n",
      "[0.2505618]\n",
      "\n",
      "\n",
      "too much violence even for a Bond film\n",
      "[0.13518175]\n",
      "\n",
      "\n",
      "a captivating recounting of a cherished myth\n",
      "[0.5053855]\n",
      "\n",
      "\n",
      "I saw this movie yesterday and I was feeling low to start with,\n",
      " but it was such a wonderful movie that it lifted my spirits and brightened \n",
      " my day, you can't go wrong with a movie with Whoopi Goldberg in it.\n",
      "[0.08171734]\n",
      "\n",
      "\n",
      "I don't understand why it received an oscar recommendation\n",
      " for best movie, it was long and boring\n",
      "[0.22276494]\n",
      "\n",
      "\n",
      "the scenery was magnificent, the CGI of the dogs was so realistic I\n",
      " thought they were played by real dogs even though they talked!\n",
      "[0.09891883]\n",
      "\n",
      "\n",
      "The ending was so sad and yet so uplifting at the same time. \n",
      " I'm looking for an excuse to see it again\n",
      "[0.6480065]\n",
      "\n",
      "\n",
      "I had expected so much more from a movie made by the director \n",
      " who made my most favorite movie ever, I was very disappointed in the tedious \n",
      " story\n",
      "[0.05536744]\n",
      "\n",
      "\n",
      "I wish I could watch this movie every day for the rest of my life\n",
      "[0.48248947]\n",
      "\n",
      "\n"
     ]
    }
   ],
   "source": [
    "print(\"===========================\\n\",\"With bidirectional GRU\\n\", \"============================\")\n",
    "predict_review(model_gru, more_reviews)"
   ]
  },
  {
   "cell_type": "code",
   "execution_count": 23,
   "metadata": {},
   "outputs": [
    {
     "name": "stdout",
     "output_type": "stream",
     "text": [
      "===========================\n",
      " With a single bidirectional LSTM:\n",
      " ===========================\n",
      "I loved this movie\n",
      "[0.51572424]\n",
      "\n",
      "\n",
      "that was the worst movie I've ever seen\n",
      "[0.32444844]\n",
      "\n",
      "\n",
      "too much violence even for a Bond film\n",
      "[0.55575055]\n",
      "\n",
      "\n",
      "a captivating recounting of a cherished myth\n",
      "[0.52067846]\n",
      "\n",
      "\n",
      "I saw this movie yesterday and I was feeling low to start with,\n",
      " but it was such a wonderful movie that it lifted my spirits and brightened \n",
      " my day, you can't go wrong with a movie with Whoopi Goldberg in it.\n",
      "[0.7542763]\n",
      "\n",
      "\n",
      "I don't understand why it received an oscar recommendation\n",
      " for best movie, it was long and boring\n",
      "[0.25290424]\n",
      "\n",
      "\n",
      "the scenery was magnificent, the CGI of the dogs was so realistic I\n",
      " thought they were played by real dogs even though they talked!\n",
      "[0.23940307]\n",
      "\n",
      "\n",
      "The ending was so sad and yet so uplifting at the same time. \n",
      " I'm looking for an excuse to see it again\n",
      "[0.2927125]\n",
      "\n",
      "\n",
      "I had expected so much more from a movie made by the director \n",
      " who made my most favorite movie ever, I was very disappointed in the tedious \n",
      " story\n",
      "[0.2658965]\n",
      "\n",
      "\n",
      "I wish I could watch this movie every day for the rest of my life\n",
      "[0.69611496]\n",
      "\n",
      "\n"
     ]
    }
   ],
   "source": [
    "print(\"===========================\\n\", \"With a single bidirectional LSTM:\\n\", \"===========================\")\n",
    "predict_review(model_bidi_lstm, more_reviews)"
   ]
  },
  {
   "cell_type": "code",
   "execution_count": 24,
   "metadata": {},
   "outputs": [
    {
     "name": "stdout",
     "output_type": "stream",
     "text": [
      "===========================\n",
      " With multiple bidirectional LSTM:\n",
      " ==========================\n",
      "I loved this movie\n",
      "[0.9481556]\n",
      "\n",
      "\n",
      "that was the worst movie I've ever seen\n",
      "[0.5272407]\n",
      "\n",
      "\n",
      "too much violence even for a Bond film\n",
      "[0.01088953]\n",
      "\n",
      "\n",
      "a captivating recounting of a cherished myth\n",
      "[0.9947957]\n",
      "\n",
      "\n",
      "I saw this movie yesterday and I was feeling low to start with,\n",
      " but it was such a wonderful movie that it lifted my spirits and brightened \n",
      " my day, you can't go wrong with a movie with Whoopi Goldberg in it.\n",
      "[0.98386145]\n",
      "\n",
      "\n",
      "I don't understand why it received an oscar recommendation\n",
      " for best movie, it was long and boring\n",
      "[0.9985062]\n",
      "\n",
      "\n",
      "the scenery was magnificent, the CGI of the dogs was so realistic I\n",
      " thought they were played by real dogs even though they talked!\n",
      "[0.99535733]\n",
      "\n",
      "\n",
      "The ending was so sad and yet so uplifting at the same time. \n",
      " I'm looking for an excuse to see it again\n",
      "[0.9980457]\n",
      "\n",
      "\n",
      "I had expected so much more from a movie made by the director \n",
      " who made my most favorite movie ever, I was very disappointed in the tedious \n",
      " story\n",
      "[0.01135075]\n",
      "\n",
      "\n",
      "I wish I could watch this movie every day for the rest of my life\n",
      "[0.01652735]\n",
      "\n",
      "\n"
     ]
    }
   ],
   "source": [
    "print(\"===========================\\n\", \"With multiple bidirectional LSTM:\\n\", \"==========================\")\n",
    "predict_review(model_multiple_bidi_lstm, more_reviews)"
   ]
  },
  {
   "cell_type": "code",
   "execution_count": null,
   "metadata": {},
   "outputs": [],
   "source": []
  }
 ],
 "metadata": {
  "kernelspec": {
   "display_name": "Python [conda env:pyTensorFlow_2]",
   "language": "python",
   "name": "conda-env-pyTensorFlow_2-py"
  },
  "language_info": {
   "codemirror_mode": {
    "name": "ipython",
    "version": 3
   },
   "file_extension": ".py",
   "mimetype": "text/x-python",
   "name": "python",
   "nbconvert_exporter": "python",
   "pygments_lexer": "ipython3",
   "version": "3.7.9"
  }
 },
 "nbformat": 4,
 "nbformat_minor": 4
}
